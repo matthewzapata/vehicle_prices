{
 "cells": [
  {
   "cell_type": "code",
   "execution_count": 1,
   "metadata": {},
   "outputs": [],
   "source": [
    "import pandas as pd\n",
    "from bs4 import BeautifulSoup\n",
    "from requests import get\n",
    "import re"
   ]
  },
  {
   "cell_type": "markdown",
   "metadata": {},
   "source": [
    "# Acquire\n",
    "### Used Prices First"
   ]
  },
  {
   "cell_type": "code",
   "execution_count": 25,
   "metadata": {},
   "outputs": [
    {
     "name": "stdout",
     "output_type": "stream",
     "text": [
      "<!DOCTYPE html>\r",
      "<html lang=\"en\">\r",
      "<head>\r",
      "<meta charset=\"utf-8\" />\r",
      "<title>Buy a Used Ford near Atascosa, TX | Pre-Owned Ford Cars & Trucks</title>\r",
      "<link rel=\"next\" href=\"//www.mccombsfordwest.com/searchused.aspx?Type=U&Year=2018&Make=Ford&Model=F-150&pn=10&pt=2\" >\r",
      "<!-- Meta Tags -->\r",
      "<meta name=\"description\" content=\"Shop for a used Ford car, truck or SUV at McCombs Ford West. Our Ford dealership nea\n"
     ]
    }
   ],
   "source": [
    "new_or_used = 'U'\n",
    "year = '2018'\n",
    "make = 'Ford'\n",
    "model = 'F-150'\n",
    "domain = 'mccombsfordwest.com'\n",
    "\n",
    "url = f'https://www.{domain}/searchused.aspx?Type={new_or_used}&Year={year}&Make={make}&Model={model}&pn=10'\n",
    "# headers = {'User-Agent': 'Codeup Ada Data Science'} # codeup.com doesn't like our default user-agent\n",
    "response = get(url)\n",
    "\n",
    "print(response.text[:400])"
   ]
  },
  {
   "cell_type": "code",
   "execution_count": 3,
   "metadata": {},
   "outputs": [],
   "source": [
    "soup = BeautifulSoup(response.content, 'html.parser')"
   ]
  },
  {
   "cell_type": "code",
   "execution_count": 4,
   "metadata": {},
   "outputs": [
    {
     "data": {
      "text/plain": [
       "['2018 Ford F-150 Limited',\n",
       " '2018 Ford F-150',\n",
       " '2018 Ford F-150 LARIAT',\n",
       " '2018 Ford F-150 XL',\n",
       " '2018 Ford F-150 LARIAT',\n",
       " '2018 Ford F-150 XL',\n",
       " '2018 Ford F-150 XLT',\n",
       " '2018 Ford F-150 STX',\n",
       " '2018 Ford F-150 XLT',\n",
       " '2018 Ford F-150 XL']"
      ]
     },
     "execution_count": 4,
     "metadata": {},
     "output_type": "execute_result"
    }
   ],
   "source": [
    "vehicle_titles = soup.find_all('div', class_='row vehicleTitleContainer visible-xs')\n",
    "\n",
    "vehicle_titles_list = []\n",
    "for vehicle_title in vehicle_titles:\n",
    "    vehicle_titles_list.append(vehicle_title.text.strip())\n",
    "vehicle_titles_list"
   ]
  },
  {
   "cell_type": "code",
   "execution_count": 38,
   "metadata": {},
   "outputs": [
    {
     "name": "stdout",
     "output_type": "stream",
     "text": [
      "['2018', '2018', '2018', '2018', '2018', '2018', '2018', '2018', '2018', '2018']\n",
      "['F-150 Limited', 'F-150', 'F-150 LARIAT', 'F-150 XL', 'F-150 LARIAT', 'F-150 XL', 'F-150 XLT', 'F-150 STX', 'F-150 XLT', 'F-150 XL']\n"
     ]
    }
   ],
   "source": [
    "year_list = []\n",
    "model_list = []\n",
    "\n",
    "for title_element in vehicle_titles_list:\n",
    "    year_and_title = re.findall(f'(\\d+) {make} (.*)', title_element)\n",
    "    year_list.append(year_and_title[0][0])\n",
    "    model_list.append(year_and_title[0][1])\n",
    "    \n",
    "print(year_list)\n",
    "print(model_list)"
   ]
  },
  {
   "cell_type": "code",
   "execution_count": 5,
   "metadata": {},
   "outputs": [
    {
     "data": {
      "text/plain": [
       "['$49,998',\n",
       " '$48,988',\n",
       " '$37,992',\n",
       " '$36,999',\n",
       " '$36,992',\n",
       " '$34,992',\n",
       " '$34,988',\n",
       " '$33,992',\n",
       " '$32,992',\n",
       " '$30,988']"
      ]
     },
     "execution_count": 5,
     "metadata": {},
     "output_type": "execute_result"
    }
   ],
   "source": [
    "prices = soup.find_all('span', class_='pull-right primaryPrice')\n",
    "\n",
    "price_list = []\n",
    "for price in prices:\n",
    "    price_list.append(price.text)\n",
    "    \n",
    "j = 1\n",
    "for i, price in enumerate(price_list):\n",
    "    if price_list[i] == price_list[j]:\n",
    "        del price_list[i]\n",
    "    j += 1\n",
    "        \n",
    "price_list"
   ]
  },
  {
   "cell_type": "code",
   "execution_count": 6,
   "metadata": {},
   "outputs": [
    {
     "data": {
      "text/plain": [
       "True"
      ]
     },
     "execution_count": 6,
     "metadata": {},
     "output_type": "execute_result"
    }
   ],
   "source": [
    "len(price_list) == len(vehicle_titles_list)"
   ]
  },
  {
   "cell_type": "code",
   "execution_count": 7,
   "metadata": {},
   "outputs": [
    {
     "data": {
      "text/plain": [
       "['Crew Cab Pickup',\n",
       " 'Crew Cab Pickup',\n",
       " 'Crew Cab Pickup',\n",
       " 'Crew Cab Pickup',\n",
       " 'Crew Cab Pickup',\n",
       " 'Crew Cab Pickup',\n",
       " 'Crew Cab Pickup',\n",
       " 'Crew Cab Pickup',\n",
       " 'Crew Cab Pickup',\n",
       " 'Crew Cab Pickup']"
      ]
     },
     "execution_count": 7,
     "metadata": {},
     "output_type": "execute_result"
    }
   ],
   "source": [
    "body_styles = soup.find_all('li', class_='bodyStyleDisplay')\n",
    "\n",
    "body_style_list = []\n",
    "for style in body_styles:\n",
    "    body_style_list.append(re.findall(r'Body Style: (.+)', style.text)[0])\n",
    "    \n",
    "j = 1\n",
    "for i, style in enumerate(body_style_list):\n",
    "    if body_style_list[i] == body_style_list[j]:\n",
    "        del body_style_list[i]\n",
    "    j += 1\n",
    "        \n",
    "body_style_list"
   ]
  },
  {
   "cell_type": "code",
   "execution_count": 8,
   "metadata": {},
   "outputs": [
    {
     "data": {
      "text/plain": [
       "['3.5L V6 24V PDI DOHC Twin Turbo',\n",
       " '3.5L V6 24V PDI DOHC Twin Turbo',\n",
       " '2.7L V6 24V PDI DOHC Twin Turbo',\n",
       " '2.7L V6 24V PDI DOHC Twin Turbo',\n",
       " '5.0L V8 32V PDI DOHC',\n",
       " '3.5L V6 24V PDI DOHC Twin Turbo',\n",
       " '5.0L V8 32V PDI DOHC',\n",
       " '2.7L V6 24V PDI DOHC Twin Turbo',\n",
       " '2.7L V6 24V PDI DOHC Twin Turbo',\n",
       " '3.5L V6 24V PDI DOHC Twin Turbo']"
      ]
     },
     "execution_count": 8,
     "metadata": {},
     "output_type": "execute_result"
    }
   ],
   "source": [
    "engines = soup.find_all('li', class_='engineDisplay')\n",
    "\n",
    "engine_list = []\n",
    "for style in engines:\n",
    "    engine_list.append(re.findall(r'Engine: (.+)', style.text)[0])\n",
    "    \n",
    "j = 1\n",
    "for i, style in enumerate(engine_list):\n",
    "    if engine_list[i] == engine_list[j]:\n",
    "        del engine_list[i]\n",
    "    j += 1\n",
    "        \n",
    "engine_list"
   ]
  },
  {
   "cell_type": "code",
   "execution_count": 9,
   "metadata": {},
   "outputs": [
    {
     "data": {
      "text/plain": [
       "['Automatic',\n",
       " 'Automatic',\n",
       " 'Automatic',\n",
       " 'Automatic',\n",
       " 'Automatic',\n",
       " 'Automatic',\n",
       " 'Automatic',\n",
       " 'Automatic',\n",
       " 'Automatic',\n",
       " 'Automatic']"
      ]
     },
     "execution_count": 9,
     "metadata": {},
     "output_type": "execute_result"
    }
   ],
   "source": [
    "transmissions = soup.find_all('li', class_='transmissionDisplay')\n",
    "\n",
    "transmission_list = []\n",
    "for style in transmissions:\n",
    "    transmission_list.append(re.findall(r'Transmission: (.+)', style.text)[0])\n",
    "    \n",
    "j = 1\n",
    "for i, style in enumerate(transmission_list):\n",
    "    if transmission_list[i] == transmission_list[j]:\n",
    "        del transmission_list[i]\n",
    "    j += 1\n",
    "        \n",
    "transmission_list"
   ]
  },
  {
   "cell_type": "code",
   "execution_count": 10,
   "metadata": {},
   "outputs": [
    {
     "data": {
      "text/plain": [
       "['4WD', '4WD', '4WD', 'RWD', 'RWD', '4WD', '4WD', 'RWD', 'RWD', 'RWD']"
      ]
     },
     "execution_count": 10,
     "metadata": {},
     "output_type": "execute_result"
    }
   ],
   "source": [
    "driveTrains = soup.find_all('li', class_='driveTrainDisplay')\n",
    "\n",
    "driveTrain_list = []\n",
    "for style in driveTrains:\n",
    "    driveTrain_list.append(re.findall(r'Drive Type: (.+)', style.text)[0])\n",
    "    \n",
    "j = 1\n",
    "for i, style in enumerate(driveTrain_list):\n",
    "    if driveTrain_list[i] == driveTrain_list[j]:\n",
    "        del driveTrain_list[i]\n",
    "    j += 1\n",
    "        \n",
    "driveTrain_list"
   ]
  },
  {
   "cell_type": "code",
   "execution_count": 11,
   "metadata": {},
   "outputs": [
    {
     "data": {
      "text/plain": [
       "['White',\n",
       " 'Silver',\n",
       " 'Black',\n",
       " 'Ingot Silver Metallic',\n",
       " 'White',\n",
       " 'Blue',\n",
       " 'Oxford White',\n",
       " 'Gray',\n",
       " 'Red',\n",
       " 'Ingot Silver Metallic']"
      ]
     },
     "execution_count": 11,
     "metadata": {},
     "output_type": "execute_result"
    }
   ],
   "source": [
    "extColors = soup.find_all('li', class_='extColor')\n",
    "\n",
    "extColor_list = []\n",
    "for style in extColors:\n",
    "    extColor_list.append(re.findall(r'Ext. Color: (.+)', style.text)[0])\n",
    "    \n",
    "j = 1\n",
    "for i, style in enumerate(extColor_list):\n",
    "    if extColor_list[i] == extColor_list[j]:\n",
    "        del extColor_list[i]\n",
    "    j += 1\n",
    "        \n",
    "extColor_list"
   ]
  },
  {
   "cell_type": "code",
   "execution_count": 12,
   "metadata": {},
   "outputs": [
    {
     "data": {
      "text/plain": [
       "['51,069',\n",
       " '30,251',\n",
       " '40,345',\n",
       " '28,920',\n",
       " '33,534',\n",
       " '22,750',\n",
       " '34,168',\n",
       " '9,979',\n",
       " '10,079',\n",
       " '23,901']"
      ]
     },
     "execution_count": 12,
     "metadata": {},
     "output_type": "execute_result"
    }
   ],
   "source": [
    "mileages = soup.find_all('li', class_='mileageDisplay')\n",
    "\n",
    "mileage_list = []\n",
    "for style in mileages:\n",
    "    mileage_list.append(re.findall(r'Mileage: (.+)', style.text)[0])\n",
    "    \n",
    "j = 1\n",
    "for i, style in enumerate(mileage_list):\n",
    "    if mileage_list[i] == mileage_list[j]:\n",
    "        del mileage_list[i]\n",
    "    j += 1\n",
    "        \n",
    "mileage_list"
   ]
  },
  {
   "cell_type": "code",
   "execution_count": 43,
   "metadata": {},
   "outputs": [],
   "source": [
    "if domain == 'mccombsfordwest.com':\n",
    "    dealer = 'McCombs Ford West'\n",
    "elif domain == 'nsford.com':\n",
    "    dealer = 'Northside Ford'\n",
    "elif doamin == 'southwayford.com':\n",
    "    dealer = 'Southway Ford'\n",
    "elif domain == 'jordanford.net':\n",
    "    dealer == 'Jordan Ford'\n",
    "\n",
    "if new_or_used == 'U':\n",
    "    condition = 'Used'\n",
    "else:\n",
    "    condition = 'New'"
   ]
  },
  {
   "cell_type": "code",
   "execution_count": 44,
   "metadata": {
    "scrolled": true
   },
   "outputs": [
    {
     "data": {
      "text/html": [
       "<div>\n",
       "<style scoped>\n",
       "    .dataframe tbody tr th:only-of-type {\n",
       "        vertical-align: middle;\n",
       "    }\n",
       "\n",
       "    .dataframe tbody tr th {\n",
       "        vertical-align: top;\n",
       "    }\n",
       "\n",
       "    .dataframe thead th {\n",
       "        text-align: right;\n",
       "    }\n",
       "</style>\n",
       "<table border=\"1\" class=\"dataframe\">\n",
       "  <thead>\n",
       "    <tr style=\"text-align: right;\">\n",
       "      <th></th>\n",
       "      <th>year</th>\n",
       "      <th>make</th>\n",
       "      <th>model</th>\n",
       "      <th>condition</th>\n",
       "      <th>price</th>\n",
       "      <th>body_style</th>\n",
       "      <th>engine</th>\n",
       "      <th>transmission</th>\n",
       "      <th>drivetrain</th>\n",
       "      <th>ext_color</th>\n",
       "      <th>dealer</th>\n",
       "    </tr>\n",
       "  </thead>\n",
       "  <tbody>\n",
       "    <tr>\n",
       "      <th>0</th>\n",
       "      <td>2018</td>\n",
       "      <td>Ford</td>\n",
       "      <td>F-150 Limited</td>\n",
       "      <td>Used</td>\n",
       "      <td>$49,998</td>\n",
       "      <td>Crew Cab Pickup</td>\n",
       "      <td>3.5L V6 24V PDI DOHC Twin Turbo</td>\n",
       "      <td>Automatic</td>\n",
       "      <td>4WD</td>\n",
       "      <td>White</td>\n",
       "      <td>McCombs Ford West</td>\n",
       "    </tr>\n",
       "    <tr>\n",
       "      <th>1</th>\n",
       "      <td>2018</td>\n",
       "      <td>Ford</td>\n",
       "      <td>F-150</td>\n",
       "      <td>Used</td>\n",
       "      <td>$48,988</td>\n",
       "      <td>Crew Cab Pickup</td>\n",
       "      <td>3.5L V6 24V PDI DOHC Twin Turbo</td>\n",
       "      <td>Automatic</td>\n",
       "      <td>4WD</td>\n",
       "      <td>Silver</td>\n",
       "      <td>McCombs Ford West</td>\n",
       "    </tr>\n",
       "    <tr>\n",
       "      <th>2</th>\n",
       "      <td>2018</td>\n",
       "      <td>Ford</td>\n",
       "      <td>F-150 LARIAT</td>\n",
       "      <td>Used</td>\n",
       "      <td>$37,992</td>\n",
       "      <td>Crew Cab Pickup</td>\n",
       "      <td>2.7L V6 24V PDI DOHC Twin Turbo</td>\n",
       "      <td>Automatic</td>\n",
       "      <td>4WD</td>\n",
       "      <td>Black</td>\n",
       "      <td>McCombs Ford West</td>\n",
       "    </tr>\n",
       "    <tr>\n",
       "      <th>3</th>\n",
       "      <td>2018</td>\n",
       "      <td>Ford</td>\n",
       "      <td>F-150 XL</td>\n",
       "      <td>Used</td>\n",
       "      <td>$36,999</td>\n",
       "      <td>Crew Cab Pickup</td>\n",
       "      <td>2.7L V6 24V PDI DOHC Twin Turbo</td>\n",
       "      <td>Automatic</td>\n",
       "      <td>RWD</td>\n",
       "      <td>Ingot Silver Metallic</td>\n",
       "      <td>McCombs Ford West</td>\n",
       "    </tr>\n",
       "    <tr>\n",
       "      <th>4</th>\n",
       "      <td>2018</td>\n",
       "      <td>Ford</td>\n",
       "      <td>F-150 LARIAT</td>\n",
       "      <td>Used</td>\n",
       "      <td>$36,992</td>\n",
       "      <td>Crew Cab Pickup</td>\n",
       "      <td>5.0L V8 32V PDI DOHC</td>\n",
       "      <td>Automatic</td>\n",
       "      <td>RWD</td>\n",
       "      <td>White</td>\n",
       "      <td>McCombs Ford West</td>\n",
       "    </tr>\n",
       "    <tr>\n",
       "      <th>5</th>\n",
       "      <td>2018</td>\n",
       "      <td>Ford</td>\n",
       "      <td>F-150 XL</td>\n",
       "      <td>Used</td>\n",
       "      <td>$34,992</td>\n",
       "      <td>Crew Cab Pickup</td>\n",
       "      <td>3.5L V6 24V PDI DOHC Twin Turbo</td>\n",
       "      <td>Automatic</td>\n",
       "      <td>4WD</td>\n",
       "      <td>Blue</td>\n",
       "      <td>McCombs Ford West</td>\n",
       "    </tr>\n",
       "    <tr>\n",
       "      <th>6</th>\n",
       "      <td>2018</td>\n",
       "      <td>Ford</td>\n",
       "      <td>F-150 XLT</td>\n",
       "      <td>Used</td>\n",
       "      <td>$34,988</td>\n",
       "      <td>Crew Cab Pickup</td>\n",
       "      <td>5.0L V8 32V PDI DOHC</td>\n",
       "      <td>Automatic</td>\n",
       "      <td>4WD</td>\n",
       "      <td>Oxford White</td>\n",
       "      <td>McCombs Ford West</td>\n",
       "    </tr>\n",
       "    <tr>\n",
       "      <th>7</th>\n",
       "      <td>2018</td>\n",
       "      <td>Ford</td>\n",
       "      <td>F-150 STX</td>\n",
       "      <td>Used</td>\n",
       "      <td>$33,992</td>\n",
       "      <td>Crew Cab Pickup</td>\n",
       "      <td>2.7L V6 24V PDI DOHC Twin Turbo</td>\n",
       "      <td>Automatic</td>\n",
       "      <td>RWD</td>\n",
       "      <td>Gray</td>\n",
       "      <td>McCombs Ford West</td>\n",
       "    </tr>\n",
       "    <tr>\n",
       "      <th>8</th>\n",
       "      <td>2018</td>\n",
       "      <td>Ford</td>\n",
       "      <td>F-150 XLT</td>\n",
       "      <td>Used</td>\n",
       "      <td>$32,992</td>\n",
       "      <td>Crew Cab Pickup</td>\n",
       "      <td>2.7L V6 24V PDI DOHC Twin Turbo</td>\n",
       "      <td>Automatic</td>\n",
       "      <td>RWD</td>\n",
       "      <td>Red</td>\n",
       "      <td>McCombs Ford West</td>\n",
       "    </tr>\n",
       "    <tr>\n",
       "      <th>9</th>\n",
       "      <td>2018</td>\n",
       "      <td>Ford</td>\n",
       "      <td>F-150 XL</td>\n",
       "      <td>Used</td>\n",
       "      <td>$30,988</td>\n",
       "      <td>Crew Cab Pickup</td>\n",
       "      <td>3.5L V6 24V PDI DOHC Twin Turbo</td>\n",
       "      <td>Automatic</td>\n",
       "      <td>RWD</td>\n",
       "      <td>Ingot Silver Metallic</td>\n",
       "      <td>McCombs Ford West</td>\n",
       "    </tr>\n",
       "  </tbody>\n",
       "</table>\n",
       "</div>"
      ],
      "text/plain": [
       "   year  make          model condition    price       body_style  \\\n",
       "0  2018  Ford  F-150 Limited      Used  $49,998  Crew Cab Pickup   \n",
       "1  2018  Ford          F-150      Used  $48,988  Crew Cab Pickup   \n",
       "2  2018  Ford   F-150 LARIAT      Used  $37,992  Crew Cab Pickup   \n",
       "3  2018  Ford       F-150 XL      Used  $36,999  Crew Cab Pickup   \n",
       "4  2018  Ford   F-150 LARIAT      Used  $36,992  Crew Cab Pickup   \n",
       "5  2018  Ford       F-150 XL      Used  $34,992  Crew Cab Pickup   \n",
       "6  2018  Ford      F-150 XLT      Used  $34,988  Crew Cab Pickup   \n",
       "7  2018  Ford      F-150 STX      Used  $33,992  Crew Cab Pickup   \n",
       "8  2018  Ford      F-150 XLT      Used  $32,992  Crew Cab Pickup   \n",
       "9  2018  Ford       F-150 XL      Used  $30,988  Crew Cab Pickup   \n",
       "\n",
       "                            engine transmission drivetrain  \\\n",
       "0  3.5L V6 24V PDI DOHC Twin Turbo    Automatic        4WD   \n",
       "1  3.5L V6 24V PDI DOHC Twin Turbo    Automatic        4WD   \n",
       "2  2.7L V6 24V PDI DOHC Twin Turbo    Automatic        4WD   \n",
       "3  2.7L V6 24V PDI DOHC Twin Turbo    Automatic        RWD   \n",
       "4             5.0L V8 32V PDI DOHC    Automatic        RWD   \n",
       "5  3.5L V6 24V PDI DOHC Twin Turbo    Automatic        4WD   \n",
       "6             5.0L V8 32V PDI DOHC    Automatic        4WD   \n",
       "7  2.7L V6 24V PDI DOHC Twin Turbo    Automatic        RWD   \n",
       "8  2.7L V6 24V PDI DOHC Twin Turbo    Automatic        RWD   \n",
       "9  3.5L V6 24V PDI DOHC Twin Turbo    Automatic        RWD   \n",
       "\n",
       "               ext_color             dealer  \n",
       "0                  White  McCombs Ford West  \n",
       "1                 Silver  McCombs Ford West  \n",
       "2                  Black  McCombs Ford West  \n",
       "3  Ingot Silver Metallic  McCombs Ford West  \n",
       "4                  White  McCombs Ford West  \n",
       "5                   Blue  McCombs Ford West  \n",
       "6           Oxford White  McCombs Ford West  \n",
       "7                   Gray  McCombs Ford West  \n",
       "8                    Red  McCombs Ford West  \n",
       "9  Ingot Silver Metallic  McCombs Ford West  "
      ]
     },
     "execution_count": 44,
     "metadata": {},
     "output_type": "execute_result"
    }
   ],
   "source": [
    "pd.DataFrame({'year':year_list, 'make':make, 'model':model_list, \n",
    "              'condition':condition, 'price':price_list, \n",
    "              'body_style':body_style_list, 'engine':engine_list, \n",
    "              'transmission':transmission_list, 'drivetrain':driveTrain_list,\n",
    "              'ext_color':extColor_list, 'dealer':dealer})"
   ]
  },
  {
   "cell_type": "markdown",
   "metadata": {},
   "source": [
    "dict_of_component_lists = {}\n",
    "component_list = []\n",
    "\n",
    "for component in component_list:\n",
    "    returned_html = soup.find_all('li', class_=component)\n",
    "\n",
    "    list_of_text = []\n",
    "    for style in body_styles:\n",
    "        list_of_text.append(style.text)\n",
    "\n",
    "    j = 1\n",
    "    for i, style in enumerate(list_of_text):\n",
    "        if list_of_text[i] == list_of_text[j]:\n",
    "            del list_of_text[i]\n",
    "        j += 1\n",
    "\n",
    "    dict_of_component_lists[f'{component}_list'] = list_of_text"
   ]
  }
 ],
 "metadata": {
  "kernelspec": {
   "display_name": "Python 3",
   "language": "python",
   "name": "python3"
  },
  "language_info": {
   "codemirror_mode": {
    "name": "ipython",
    "version": 3
   },
   "file_extension": ".py",
   "mimetype": "text/x-python",
   "name": "python",
   "nbconvert_exporter": "python",
   "pygments_lexer": "ipython3",
   "version": "3.7.3"
  }
 },
 "nbformat": 4,
 "nbformat_minor": 2
}
