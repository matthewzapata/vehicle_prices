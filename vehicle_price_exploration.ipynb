{
 "cells": [
  {
   "cell_type": "code",
   "execution_count": 1,
   "metadata": {},
   "outputs": [],
   "source": [
    "import pandas as pd\n",
    "from bs4 import BeautifulSoup\n",
    "from requests import get\n",
    "import re\n",
    "import math"
   ]
  },
  {
   "cell_type": "markdown",
   "metadata": {},
   "source": [
    "# Acquire\n",
    "### Used Prices First"
   ]
  },
  {
   "cell_type": "code",
   "execution_count": 2,
   "metadata": {},
   "outputs": [
    {
     "name": "stdout",
     "output_type": "stream",
     "text": [
      "<Response [200]>\n"
     ]
    }
   ],
   "source": [
    "new_or_used = 'all'\n",
    "year = '2018'\n",
    "make = 'Ford'\n",
    "model = 'F-150'\n",
    "domain = 'mccombsfordwest.com'\n",
    "# headers = {'User-Agent': 'Mozilla/5.0 (Windows NT 6.1) AppleWebKit/537.36 (KHTML, like Gecko) Chrome/41.0.2228.0 Safari/537.36'}\n",
    "\n",
    "url = 'https://www.ancirakiasa.com/searchall.aspx?Year=2019,2018&Make=Ford&Model=F-150&pn=100'\n",
    "# headers = {'User-Agent': 'Codeup Ada Data Science'} # codeup.com doesn't like our default user-agent\n",
    "response = get(url)\n",
    "\n",
    "print(response)"
   ]
  },
  {
   "cell_type": "code",
   "execution_count": 3,
   "metadata": {},
   "outputs": [],
   "source": [
    "soup = BeautifulSoup(response.content, 'html.parser')"
   ]
  },
  {
   "cell_type": "code",
   "execution_count": 4,
   "metadata": {},
   "outputs": [
    {
     "data": {
      "text/plain": [
       "'(0 - 0 of 0 Vehicles)'"
      ]
     },
     "execution_count": 4,
     "metadata": {},
     "output_type": "execute_result"
    }
   ],
   "source": [
    "phrase = soup.find('p', class_='srpVehicleCount').text.strip()\n",
    "phrase"
   ]
  },
  {
   "cell_type": "code",
   "execution_count": 5,
   "metadata": {},
   "outputs": [
    {
     "data": {
      "text/plain": [
       "['0']"
      ]
     },
     "execution_count": 5,
     "metadata": {},
     "output_type": "execute_result"
    }
   ],
   "source": [
    "re.findall(r'(\\d+) Vehicles', phrase)"
   ]
  },
  {
   "cell_type": "code",
   "execution_count": 6,
   "metadata": {
    "scrolled": false
   },
   "outputs": [
    {
     "data": {
      "text/plain": [
       "0"
      ]
     },
     "execution_count": 6,
     "metadata": {},
     "output_type": "execute_result"
    }
   ],
   "source": [
    "math.ceil(int(re.findall(r'(\\d+) Vehicles', phrase)[0])/100)"
   ]
  },
  {
   "cell_type": "code",
   "execution_count": 7,
   "metadata": {},
   "outputs": [
    {
     "ename": "SyntaxError",
     "evalue": "invalid syntax (<ipython-input-7-9590190e43d7>, line 3)",
     "output_type": "error",
     "traceback": [
      "\u001b[1;36m  File \u001b[1;32m\"<ipython-input-7-9590190e43d7>\"\u001b[1;36m, line \u001b[1;32m3\u001b[0m\n\u001b[1;33m    grab new url\u001b[0m\n\u001b[1;37m           ^\u001b[0m\n\u001b[1;31mSyntaxError\u001b[0m\u001b[1;31m:\u001b[0m invalid syntax\n"
     ]
    }
   ],
   "source": [
    "number_of_pages = math.ceil(int(re.findall(r'\\(1 -  of (\\d+)', soup.find('p', class_='srpVehicleCount').text.strip())[0])/100)\n",
    "if number_of_pages > 1:\n",
    "    grab new url\n",
    "    change url\n",
    "    run through functions again but append to existing lists, DO NOT CREATE NEW ONES\n",
    "    repeat"
   ]
  },
  {
   "cell_type": "code",
   "execution_count": null,
   "metadata": {},
   "outputs": [],
   "source": [
    "math.ceil(1)"
   ]
  },
  {
   "cell_type": "code",
   "execution_count": null,
   "metadata": {},
   "outputs": [],
   "source": []
  },
  {
   "cell_type": "code",
   "execution_count": null,
   "metadata": {},
   "outputs": [],
   "source": [
    "vehicle_titles = soup.find_all('div', class_='row vehicleTitleContainer visible-xs')\n",
    "\n",
    "vehicle_titles_list = []\n",
    "for vehicle_title in vehicle_titles:\n",
    "    vehicle_titles_list.append(vehicle_title.text.strip())\n",
    "vehicle_titles_list"
   ]
  },
  {
   "cell_type": "code",
   "execution_count": null,
   "metadata": {},
   "outputs": [],
   "source": [
    "year_list = []\n",
    "model_list = []\n",
    "\n",
    "for title_element in vehicle_titles_list:\n",
    "    year_and_title = re.findall(f'(\\d+) {make} (.*)', title_element)\n",
    "    year_list.append(year_and_title[0][0])\n",
    "    model_list.append(year_and_title[0][1])\n",
    "    \n",
    "print(year_list)\n",
    "print(model_list)"
   ]
  },
  {
   "cell_type": "code",
   "execution_count": null,
   "metadata": {},
   "outputs": [],
   "source": [
    "new_prices = soup.find_all('div', class_=\"col-sm-6 col-sm-push-6 hidden-xs\")\n",
    "for new_price in new_prices:\n",
    "    if new_price.find('span', class_='pull-right primaryPrice') == None:\n",
    "        price_block = new_price.find('li', class_='priceBlockItem priceBlockItemPrice')\n",
    "        print(price_block.find('span', class_='pull-right').text)\n",
    "    else:\n",
    "        print(new_price.find('span', class_='pull-right primaryPrice').text)"
   ]
  },
  {
   "cell_type": "code",
   "execution_count": null,
   "metadata": {},
   "outputs": [],
   "source": [
    "price_block"
   ]
  },
  {
   "cell_type": "code",
   "execution_count": null,
   "metadata": {},
   "outputs": [],
   "source": [
    "prices = soup.find_all('span', class_='pull-right primaryPrice')\n",
    "\n",
    "price_list = []\n",
    "for price in prices:\n",
    "    price_list.append(price.text)\n",
    "    \n",
    "j = 1\n",
    "for i, price in enumerate(price_list):\n",
    "    if price_list[i] == price_list[j]:\n",
    "        del price_list[i]\n",
    "    j += 1\n",
    "        \n",
    "price_list"
   ]
  },
  {
   "cell_type": "code",
   "execution_count": null,
   "metadata": {},
   "outputs": [],
   "source": [
    "len(price_list) == len(vehicle_titles_list)"
   ]
  },
  {
   "cell_type": "code",
   "execution_count": null,
   "metadata": {},
   "outputs": [],
   "source": [
    "body_styles = soup.find_all('li', class_='bodyStyleDisplay')\n",
    "\n",
    "body_style_list = []\n",
    "for style in body_styles:\n",
    "    body_style_list.append(re.findall(r'Body Style: (.+)', style.text)[0])\n",
    "    \n",
    "j = 1\n",
    "for i, style in enumerate(body_style_list):\n",
    "    if body_style_list[i] == body_style_list[j]:\n",
    "        del body_style_list[i]\n",
    "    j += 1\n",
    "        \n",
    "body_style_list"
   ]
  },
  {
   "cell_type": "code",
   "execution_count": null,
   "metadata": {},
   "outputs": [],
   "source": [
    "engines = soup.find_all('li', class_='engineDisplay')\n",
    "\n",
    "engine_list = []\n",
    "for style in engines:\n",
    "    engine_list.append(re.findall(r'Engine: (.+)', style.text)[0])\n",
    "    \n",
    "j = 1\n",
    "for i, style in enumerate(engine_list):\n",
    "    if engine_list[i] == engine_list[j]:\n",
    "        del engine_list[i]\n",
    "    j += 1\n",
    "        \n",
    "engine_list"
   ]
  },
  {
   "cell_type": "code",
   "execution_count": null,
   "metadata": {},
   "outputs": [],
   "source": [
    "transmissions = soup.find_all('li', class_='transmissionDisplay')\n",
    "\n",
    "transmission_list = []\n",
    "for style in transmissions:\n",
    "    transmission_list.append(re.findall(r'Transmission: (.+)', style.text)[0])\n",
    "    \n",
    "j = 1\n",
    "for i, style in enumerate(transmission_list):\n",
    "    if transmission_list[i] == transmission_list[j]:\n",
    "        del transmission_list[i]\n",
    "    j += 1\n",
    "        \n",
    "transmission_list"
   ]
  },
  {
   "cell_type": "code",
   "execution_count": null,
   "metadata": {},
   "outputs": [],
   "source": [
    "driveTrains = soup.find_all('li', class_='driveTrainDisplay')\n",
    "\n",
    "driveTrain_list = []\n",
    "for style in driveTrains:\n",
    "    driveTrain_list.append(re.findall(r'Drive Type: (.+)', style.text)[0])\n",
    "    \n",
    "j = 1\n",
    "for i, style in enumerate(driveTrain_list):\n",
    "    if driveTrain_list[i] == driveTrain_list[j]:\n",
    "        del driveTrain_list[i]\n",
    "    j += 1\n",
    "        \n",
    "driveTrain_list"
   ]
  },
  {
   "cell_type": "code",
   "execution_count": null,
   "metadata": {},
   "outputs": [],
   "source": [
    "extColors = soup.find_all('li', class_='extColor')\n",
    "\n",
    "extColor_list = []\n",
    "for style in extColors:\n",
    "    extColor_list.append(re.findall(r'Ext. Color: (.+)', style.text)[0])\n",
    "    \n",
    "j = 1\n",
    "for i, style in enumerate(extColor_list):\n",
    "    if extColor_list[i] == extColor_list[j]:\n",
    "        del extColor_list[i]\n",
    "    j += 1\n",
    "        \n",
    "extColor_list"
   ]
  },
  {
   "cell_type": "code",
   "execution_count": null,
   "metadata": {},
   "outputs": [],
   "source": [
    "mileages = soup.find_all('ul', class_='list-unstyled srpVehicleDetails')\n",
    "\n",
    "mileage_list = []\n",
    "condition_list = []\n",
    "\n",
    "for mileage in mileages:\n",
    "    if mileage.find('li', class_=mileageDisplay) == None:\n",
    "        mileage_list.append(0)\n",
    "        condition_list.append('new')\n",
    "    else:\n",
    "        mileage_list.append(mileage.find('li', class_='mileageDisplay').text)\n",
    "        condition_list.append('used')\n",
    "        \n",
    "mileage_list"
   ]
  },
  {
   "cell_type": "code",
   "execution_count": null,
   "metadata": {},
   "outputs": [],
   "source": [
    "if domain == 'mccombsfordwest.com':\n",
    "    dealer = 'McCombs Ford West'\n",
    "elif domain == 'nsford.com':\n",
    "    dealer = 'Northside Ford'\n",
    "elif doamin == 'southwayford.com':\n",
    "    dealer = 'Southway Ford'\n",
    "elif domain == 'jordanford.net':\n",
    "    dealer == 'Jordan Ford'"
   ]
  },
  {
   "cell_type": "code",
   "execution_count": null,
   "metadata": {
    "scrolled": true
   },
   "outputs": [],
   "source": [
    "pd.DataFrame({'year':year_list, 'make':make, 'model':model_list, \n",
    "              'condition':condition_list, 'price':price_list, \n",
    "              'body_style':body_style_list, 'engine':engine_list, \n",
    "              'transmission':transmission_list, 'drivetrain':driveTrain_list,\n",
    "              'ext_color':extColor_list, 'dealer':dealer})"
   ]
  },
  {
   "cell_type": "markdown",
   "metadata": {},
   "source": [
    "dict_of_component_lists = {}\n",
    "component_list = []\n",
    "\n",
    "for component in component_list:\n",
    "    returned_html = soup.find_all('li', class_=component)\n",
    "\n",
    "    list_of_text = []\n",
    "    for style in body_styles:\n",
    "        list_of_text.append(style.text)\n",
    "\n",
    "    j = 1\n",
    "    for i, style in enumerate(list_of_text):\n",
    "        if list_of_text[i] == list_of_text[j]:\n",
    "            del list_of_text[i]\n",
    "        j += 1\n",
    "\n",
    "    dict_of_component_lists[f'{component}_list'] = list_of_text"
   ]
  },
  {
   "cell_type": "code",
   "execution_count": null,
   "metadata": {},
   "outputs": [],
   "source": [
    "url = 'https://www.worldcarkianorth.com/search/used/tp-lc3811/?q=toyota+camry&cy=78201&lc=3811&tp=used'\n",
    "print(url)\n",
    "response = get(url)\n",
    "soup = BeautifulSoup(response.content, 'html.parser')"
   ]
  },
  {
   "cell_type": "code",
   "execution_count": null,
   "metadata": {},
   "outputs": [],
   "source": [
    "response"
   ]
  },
  {
   "cell_type": "code",
   "execution_count": null,
   "metadata": {},
   "outputs": [],
   "source": [
    "type(response)"
   ]
  },
  {
   "cell_type": "code",
   "execution_count": null,
   "metadata": {},
   "outputs": [],
   "source": [
    "requests.models.Response"
   ]
  },
  {
   "cell_type": "code",
   "execution_count": null,
   "metadata": {},
   "outputs": [],
   "source": [
    "type(response.status_code)"
   ]
  },
  {
   "cell_type": "code",
   "execution_count": null,
   "metadata": {},
   "outputs": [],
   "source": [
    "for i in range (1, 2+1):\n",
    "    print(i)"
   ]
  },
  {
   "cell_type": "code",
   "execution_count": null,
   "metadata": {},
   "outputs": [],
   "source": [
    "soup.find('ul', class_='pagination margin-x').find_all('a')[1]['href']"
   ]
  },
  {
   "cell_type": "code",
   "execution_count": null,
   "metadata": {},
   "outputs": [],
   "source": []
  }
 ],
 "metadata": {
  "kernelspec": {
   "display_name": "Python 3",
   "language": "python",
   "name": "python3"
  },
  "language_info": {
   "codemirror_mode": {
    "name": "ipython",
    "version": 3
   },
   "file_extension": ".py",
   "mimetype": "text/x-python",
   "name": "python",
   "nbconvert_exporter": "python",
   "pygments_lexer": "ipython3",
   "version": "3.7.3"
  }
 },
 "nbformat": 4,
 "nbformat_minor": 2
}
