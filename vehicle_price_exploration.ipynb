{
 "cells": [
  {
   "cell_type": "code",
   "execution_count": 4,
   "metadata": {},
   "outputs": [],
   "source": [
    "import pandas as pd\n",
    "from bs4 import BeautifulSoup\n",
    "from requests import get\n",
    "import re"
   ]
  },
  {
   "cell_type": "markdown",
   "metadata": {},
   "source": [
    "# Acquire\n",
    "### Used Prices First"
   ]
  },
  {
   "cell_type": "code",
   "execution_count": 5,
   "metadata": {},
   "outputs": [
    {
     "name": "stdout",
     "output_type": "stream",
     "text": [
      "<!DOCTYPE html>\r",
      "<html lang=\"en\">\r",
      "<head>\r",
      "<meta charset=\"utf-8\" />\r",
      "<title>Search All Inventory</title>\r",
      "<link rel=\"next\" href=\"//www.mccombsfordwest.com/searchall.aspx?Year=2019&Make=Ford&Model=F-150&pn=100&pt=2\" >\r",
      "<!-- Meta Tags -->\r",
      "<meta name=\"description\" content=\"Search All Inventory\" />\r",
      "<meta name=\"format-detection\" content=\"telephone=no\" />\r",
      "<meta name=\"robots\" content=\"noindex,nofollow,noodp,no\n"
     ]
    }
   ],
   "source": [
    "new_or_used = 'all'\n",
    "year = '2019'\n",
    "make = 'Ford'\n",
    "model = 'F-150'\n",
    "domain = 'mccombsfordwest.com'\n",
    "\n",
    "url = f'https://www.mccombsfordwest.com/searchall.aspx?Year=2019&Make=Ford&Model=F-150&pn=100'\n",
    "# headers = {'User-Agent': 'Codeup Ada Data Science'} # codeup.com doesn't like our default user-agent\n",
    "response = get(url)\n",
    "\n",
    "print(response.text[:400])"
   ]
  },
  {
   "cell_type": "code",
   "execution_count": 6,
   "metadata": {},
   "outputs": [],
   "source": [
    "soup = BeautifulSoup(response.content, 'html.parser')"
   ]
  },
  {
   "cell_type": "code",
   "execution_count": null,
   "metadata": {},
   "outputs": [],
   "source": [
    "vehicle_titles = soup.find_all('div', class_='row vehicleTitleContainer visible-xs')\n",
    "\n",
    "vehicle_titles_list = []\n",
    "for vehicle_title in vehicle_titles:\n",
    "    vehicle_titles_list.append(vehicle_title.text.strip())\n",
    "vehicle_titles_list"
   ]
  },
  {
   "cell_type": "code",
   "execution_count": null,
   "metadata": {},
   "outputs": [],
   "source": [
    "year_list = []\n",
    "model_list = []\n",
    "\n",
    "for title_element in vehicle_titles_list:\n",
    "    year_and_title = re.findall(f'(\\d+) {make} (.*)', title_element)\n",
    "    year_list.append(year_and_title[0][0])\n",
    "    model_list.append(year_and_title[0][1])\n",
    "    \n",
    "print(year_list)\n",
    "print(model_list)"
   ]
  },
  {
   "cell_type": "code",
   "execution_count": null,
   "metadata": {},
   "outputs": [],
   "source": [
    "new_prices = soup.find_all('div', class_=\"col-sm-6 col-sm-push-6 hidden-xs\")\n",
    "for new_price in new_prices:\n",
    "    if new_price.find('span', class_='pull-right primaryPrice') == None:\n",
    "        price_block = new_price.find('li', class_='priceBlockItem priceBlockItemPrice')\n",
    "        print(price_block.find('span', class_='pull-right').text)\n",
    "    else:\n",
    "        print(new_price.find('span', class_='pull-right primaryPrice').text)"
   ]
  },
  {
   "cell_type": "code",
   "execution_count": null,
   "metadata": {},
   "outputs": [],
   "source": [
    "price_block"
   ]
  },
  {
   "cell_type": "code",
   "execution_count": null,
   "metadata": {},
   "outputs": [],
   "source": [
    "prices = soup.find_all('span', class_='pull-right primaryPrice')\n",
    "\n",
    "price_list = []\n",
    "for price in prices:\n",
    "    price_list.append(price.text)\n",
    "    \n",
    "j = 1\n",
    "for i, price in enumerate(price_list):\n",
    "    if price_list[i] == price_list[j]:\n",
    "        del price_list[i]\n",
    "    j += 1\n",
    "        \n",
    "price_list"
   ]
  },
  {
   "cell_type": "code",
   "execution_count": null,
   "metadata": {},
   "outputs": [],
   "source": [
    "len(price_list) == len(vehicle_titles_list)"
   ]
  },
  {
   "cell_type": "code",
   "execution_count": null,
   "metadata": {},
   "outputs": [],
   "source": [
    "body_styles = soup.find_all('li', class_='bodyStyleDisplay')\n",
    "\n",
    "body_style_list = []\n",
    "for style in body_styles:\n",
    "    body_style_list.append(re.findall(r'Body Style: (.+)', style.text)[0])\n",
    "    \n",
    "j = 1\n",
    "for i, style in enumerate(body_style_list):\n",
    "    if body_style_list[i] == body_style_list[j]:\n",
    "        del body_style_list[i]\n",
    "    j += 1\n",
    "        \n",
    "body_style_list"
   ]
  },
  {
   "cell_type": "code",
   "execution_count": null,
   "metadata": {},
   "outputs": [],
   "source": [
    "engines = soup.find_all('li', class_='engineDisplay')\n",
    "\n",
    "engine_list = []\n",
    "for style in engines:\n",
    "    engine_list.append(re.findall(r'Engine: (.+)', style.text)[0])\n",
    "    \n",
    "j = 1\n",
    "for i, style in enumerate(engine_list):\n",
    "    if engine_list[i] == engine_list[j]:\n",
    "        del engine_list[i]\n",
    "    j += 1\n",
    "        \n",
    "engine_list"
   ]
  },
  {
   "cell_type": "code",
   "execution_count": null,
   "metadata": {},
   "outputs": [],
   "source": [
    "transmissions = soup.find_all('li', class_='transmissionDisplay')\n",
    "\n",
    "transmission_list = []\n",
    "for style in transmissions:\n",
    "    transmission_list.append(re.findall(r'Transmission: (.+)', style.text)[0])\n",
    "    \n",
    "j = 1\n",
    "for i, style in enumerate(transmission_list):\n",
    "    if transmission_list[i] == transmission_list[j]:\n",
    "        del transmission_list[i]\n",
    "    j += 1\n",
    "        \n",
    "transmission_list"
   ]
  },
  {
   "cell_type": "code",
   "execution_count": null,
   "metadata": {},
   "outputs": [],
   "source": [
    "driveTrains = soup.find_all('li', class_='driveTrainDisplay')\n",
    "\n",
    "driveTrain_list = []\n",
    "for style in driveTrains:\n",
    "    driveTrain_list.append(re.findall(r'Drive Type: (.+)', style.text)[0])\n",
    "    \n",
    "j = 1\n",
    "for i, style in enumerate(driveTrain_list):\n",
    "    if driveTrain_list[i] == driveTrain_list[j]:\n",
    "        del driveTrain_list[i]\n",
    "    j += 1\n",
    "        \n",
    "driveTrain_list"
   ]
  },
  {
   "cell_type": "code",
   "execution_count": null,
   "metadata": {},
   "outputs": [],
   "source": [
    "extColors = soup.find_all('li', class_='extColor')\n",
    "\n",
    "extColor_list = []\n",
    "for style in extColors:\n",
    "    extColor_list.append(re.findall(r'Ext. Color: (.+)', style.text)[0])\n",
    "    \n",
    "j = 1\n",
    "for i, style in enumerate(extColor_list):\n",
    "    if extColor_list[i] == extColor_list[j]:\n",
    "        del extColor_list[i]\n",
    "    j += 1\n",
    "        \n",
    "extColor_list"
   ]
  },
  {
   "cell_type": "code",
   "execution_count": 7,
   "metadata": {},
   "outputs": [
    {
     "ename": "AttributeError",
     "evalue": "'NoneType' object has no attribute 'text'",
     "output_type": "error",
     "traceback": [
      "\u001b[1;31m---------------------------------------------------------------------------\u001b[0m",
      "\u001b[1;31mAttributeError\u001b[0m                            Traceback (most recent call last)",
      "\u001b[1;32m<ipython-input-7-25c8f0357826>\u001b[0m in \u001b[0;36m<module>\u001b[1;34m\u001b[0m\n\u001b[0;32m      4\u001b[0m \u001b[1;33m\u001b[0m\u001b[0m\n\u001b[0;32m      5\u001b[0m \u001b[1;32mfor\u001b[0m \u001b[0mmileage\u001b[0m \u001b[1;32min\u001b[0m \u001b[0mmileages\u001b[0m\u001b[1;33m:\u001b[0m\u001b[1;33m\u001b[0m\u001b[1;33m\u001b[0m\u001b[0m\n\u001b[1;32m----> 6\u001b[1;33m     \u001b[0mmileage_list\u001b[0m\u001b[1;33m.\u001b[0m\u001b[0mappend\u001b[0m\u001b[1;33m(\u001b[0m\u001b[0mmileage\u001b[0m\u001b[1;33m.\u001b[0m\u001b[0mfind\u001b[0m\u001b[1;33m(\u001b[0m\u001b[1;34m'li'\u001b[0m\u001b[1;33m,\u001b[0m \u001b[0mclass_\u001b[0m\u001b[1;33m=\u001b[0m\u001b[1;34m'mileageDisplay'\u001b[0m\u001b[1;33m)\u001b[0m\u001b[1;33m.\u001b[0m\u001b[0mtext\u001b[0m\u001b[1;33m)\u001b[0m\u001b[1;33m\u001b[0m\u001b[1;33m\u001b[0m\u001b[0m\n\u001b[0m\u001b[0;32m      7\u001b[0m \u001b[1;33m\u001b[0m\u001b[0m\n\u001b[0;32m      8\u001b[0m \u001b[0mmileage_list\u001b[0m\u001b[1;33m\u001b[0m\u001b[1;33m\u001b[0m\u001b[0m\n",
      "\u001b[1;31mAttributeError\u001b[0m: 'NoneType' object has no attribute 'text'"
     ]
    }
   ],
   "source": [
    "mileages = soup.find_all('ul', class_='list-unstyled srpVehicleDetails')\n",
    "\n",
    "mileage_list = []\n",
    "condition_list = []\n",
    "\n",
    "for mileage in mileages:\n",
    "    if mileage.find('li', class_=mileageDisplay) == None:\n",
    "        mileage_list.append(0)\n",
    "        condition_list.append('new')\n",
    "    else:\n",
    "        mileage_list.append(mileage.find('li', class_='mileageDisplay').text)\n",
    "        condition_list.append('used')\n",
    "        \n",
    "mileage_list"
   ]
  },
  {
   "cell_type": "code",
   "execution_count": null,
   "metadata": {},
   "outputs": [],
   "source": [
    "if domain == 'mccombsfordwest.com':\n",
    "    dealer = 'McCombs Ford West'\n",
    "elif domain == 'nsford.com':\n",
    "    dealer = 'Northside Ford'\n",
    "elif doamin == 'southwayford.com':\n",
    "    dealer = 'Southway Ford'\n",
    "elif domain == 'jordanford.net':\n",
    "    dealer == 'Jordan Ford'"
   ]
  },
  {
   "cell_type": "code",
   "execution_count": null,
   "metadata": {
    "scrolled": true
   },
   "outputs": [],
   "source": [
    "pd.DataFrame({'year':year_list, 'make':make, 'model':model_list, \n",
    "              'condition':condition_list, 'price':price_list, \n",
    "              'body_style':body_style_list, 'engine':engine_list, \n",
    "              'transmission':transmission_list, 'drivetrain':driveTrain_list,\n",
    "              'ext_color':extColor_list, 'dealer':dealer})"
   ]
  },
  {
   "cell_type": "markdown",
   "metadata": {},
   "source": [
    "dict_of_component_lists = {}\n",
    "component_list = []\n",
    "\n",
    "for component in component_list:\n",
    "    returned_html = soup.find_all('li', class_=component)\n",
    "\n",
    "    list_of_text = []\n",
    "    for style in body_styles:\n",
    "        list_of_text.append(style.text)\n",
    "\n",
    "    j = 1\n",
    "    for i, style in enumerate(list_of_text):\n",
    "        if list_of_text[i] == list_of_text[j]:\n",
    "            del list_of_text[i]\n",
    "        j += 1\n",
    "\n",
    "    dict_of_component_lists[f'{component}_list'] = list_of_text"
   ]
  }
 ],
 "metadata": {
  "kernelspec": {
   "display_name": "Python 3",
   "language": "python",
   "name": "python3"
  },
  "language_info": {
   "codemirror_mode": {
    "name": "ipython",
    "version": 3
   },
   "file_extension": ".py",
   "mimetype": "text/x-python",
   "name": "python",
   "nbconvert_exporter": "python",
   "pygments_lexer": "ipython3",
   "version": "3.7.3"
  }
 },
 "nbformat": 4,
 "nbformat_minor": 2
}
