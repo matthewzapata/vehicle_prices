{
 "cells": [
  {
   "cell_type": "code",
   "execution_count": 1,
   "metadata": {},
   "outputs": [],
   "source": [
    "import pandas as pd\n",
    "from bs4 import BeautifulSoup\n",
    "from requests import get"
   ]
  },
  {
   "cell_type": "markdown",
   "metadata": {},
   "source": [
    "https://www.mccombsfordwest.com/searchused.aspx?Type=N&Year=2019&Make=Ford&Model=F-150"
   ]
  },
  {
   "cell_type": "markdown",
   "metadata": {},
   "source": [
    "# Acquire\n",
    "### Used Prices First"
   ]
  },
  {
   "cell_type": "code",
   "execution_count": 2,
   "metadata": {},
   "outputs": [
    {
     "name": "stdout",
     "output_type": "stream",
     "text": [
      "<!DOCTYPE html>\r",
      "<html lang=\"en\">\r",
      "<head>\r",
      "<meta charset=\"utf-8\" />\r",
      "<title>Buy a Used Ford near Atascosa, TX | Pre-Owned Ford Cars & Trucks</title>\r",
      "<!-- Meta Tags -->\r",
      "<meta name=\"description\" content=\"Shop for a used Ford car, truck or SUV at McCombs Ford West. Our Ford dealership near Atascosa, TX, has a large inventory of used Ford vehicles, including pre-owned Ford F-150 trucks and Ford Mustang mo\n"
     ]
    }
   ],
   "source": [
    "new_or_used = 'U'\n",
    "year = '2018'\n",
    "make = 'Ford'\n",
    "model = 'F-150'\n",
    "\n",
    "url = f'https://www.mccombsfordwest.com/searchused.aspx?Type={new_or_used}&Year={year}&Make={make}&Model={model}'\n",
    "# headers = {'User-Agent': 'Codeup Ada Data Science'} # codeup.com doesn't like our default user-agent\n",
    "response = get(url)\n",
    "\n",
    "print(response.text[:400])"
   ]
  },
  {
   "cell_type": "code",
   "execution_count": 3,
   "metadata": {},
   "outputs": [],
   "source": [
    "soup = BeautifulSoup(response.content, 'html.parser')"
   ]
  },
  {
   "cell_type": "code",
   "execution_count": 15,
   "metadata": {},
   "outputs": [
    {
     "data": {
      "text/plain": [
       "['2018 Ford F-150 Limited',\n",
       " '2018 Ford F-150 LARIAT',\n",
       " '2018 Ford F-150',\n",
       " '2018 Ford F-150 LARIAT',\n",
       " '2018 Ford F-150 2WD',\n",
       " '2018 Ford F-150 LARIAT',\n",
       " '2018 Ford F-150 XL',\n",
       " '2018 Ford F-150 XLT',\n",
       " '2018 Ford F-150 STX',\n",
       " '2018 Ford F-150 XLT',\n",
       " '2018 Ford F-150 XL',\n",
       " '2018 Ford F-150 XL',\n",
       " '2018 Ford F-150 XLT',\n",
       " '2018 Ford F-150 XL']"
      ]
     },
     "execution_count": 15,
     "metadata": {},
     "output_type": "execute_result"
    }
   ],
   "source": [
    "vehicle_titles = soup.find_all('div', class_='row vehicleTitleContainer visible-xs')\n",
    "\n",
    "vehicle_titles_list = []\n",
    "for vehicle_title in vehicle_titles:\n",
    "    vehicle_titles_list.append(vehicle_title.text.strip())\n",
    "vehicle_titles_list"
   ]
  },
  {
   "cell_type": "code",
   "execution_count": 22,
   "metadata": {},
   "outputs": [
    {
     "data": {
      "text/plain": [
       "['$49,998',\n",
       " '$42,992',\n",
       " '$41,992',\n",
       " '$37,992',\n",
       " '$36,999',\n",
       " '$36,992',\n",
       " '$35,988',\n",
       " '$34,988',\n",
       " '$33,992',\n",
       " '$32,992',\n",
       " '$30,998',\n",
       " '$30,988',\n",
       " '$28,990',\n",
       " '$27,202']"
      ]
     },
     "execution_count": 22,
     "metadata": {},
     "output_type": "execute_result"
    }
   ],
   "source": [
    "prices = soup.find_all('span', class_='pull-right primaryPrice')\n",
    "\n",
    "price_list = []\n",
    "for price in prices:\n",
    "    price_list.append(price.text)\n",
    "    \n",
    "j = 1\n",
    "for i, price in enumerate(price_list):\n",
    "    if price_list[i] == price_list[j]:\n",
    "        del price_list[i]\n",
    "    j += 1\n",
    "        \n",
    "price_list"
   ]
  },
  {
   "cell_type": "code",
   "execution_count": 23,
   "metadata": {},
   "outputs": [
    {
     "data": {
      "text/plain": [
       "True"
      ]
     },
     "execution_count": 23,
     "metadata": {},
     "output_type": "execute_result"
    }
   ],
   "source": [
    "len(price_list) == len(vehicle_titles_list)"
   ]
  },
  {
   "cell_type": "code",
   "execution_count": 25,
   "metadata": {},
   "outputs": [
    {
     "data": {
      "text/plain": [
       "['Body Style: Crew Cab Pickup',\n",
       " 'Body Style: Crew Cab Pickup',\n",
       " 'Body Style: Crew Cab Pickup',\n",
       " 'Body Style: Crew Cab Pickup',\n",
       " 'Body Style: Crew Cab Pickup',\n",
       " 'Body Style: Crew Cab Pickup',\n",
       " 'Body Style: Crew Cab Pickup',\n",
       " 'Body Style: Crew Cab Pickup',\n",
       " 'Body Style: Crew Cab Pickup',\n",
       " 'Body Style: Crew Cab Pickup',\n",
       " 'Body Style: Crew Cab Pickup',\n",
       " 'Body Style: Crew Cab Pickup',\n",
       " 'Body Style: Crew Cab Pickup',\n",
       " 'Body Style: Crew Cab Pickup']"
      ]
     },
     "execution_count": 25,
     "metadata": {},
     "output_type": "execute_result"
    }
   ],
   "source": [
    "body_styles = soup.find_all('li', class_='bodyStyleDisplay')\n",
    "\n",
    "body_style_list = []\n",
    "for style in body_styles:\n",
    "    body_style_list.append(style.text)\n",
    "    \n",
    "j = 1\n",
    "for i, style in enumerate(body_style_list):\n",
    "    if body_style_list[i] == body_style_list[j]:\n",
    "        del body_style_list[i]\n",
    "    j += 1\n",
    "        \n",
    "body_style_list"
   ]
  },
  {
   "cell_type": "code",
   "execution_count": 26,
   "metadata": {},
   "outputs": [
    {
     "data": {
      "text/plain": [
       "['Engine: 3.5L V6 24V PDI DOHC Twin Turbo',\n",
       " 'Engine: 3.5L V6 24V PDI DOHC Twin Turbo',\n",
       " 'Engine: 3.5L V6 24V PDI DOHC Twin Turbo',\n",
       " 'Engine: 2.7L V6 24V PDI DOHC Twin Turbo',\n",
       " 'Engine: 2.7L V6 24V PDI DOHC Twin Turbo',\n",
       " 'Engine: 5.0L V8 32V PDI DOHC',\n",
       " 'Engine: 6 Cyl - 3.5 L',\n",
       " 'Engine: 5.0L V8 32V PDI DOHC',\n",
       " 'Engine: 2.7L V6 24V PDI DOHC Twin Turbo',\n",
       " 'Engine: 2.7L V6 24V PDI DOHC Twin Turbo',\n",
       " 'Engine: 2.7L V6 24V PDI DOHC Twin Turbo',\n",
       " 'Engine: 3.5L V6 24V PDI DOHC Twin Turbo',\n",
       " 'Engine: 8 Cyl - 5.0 L',\n",
       " 'Engine: 3.3L V6 24V PDI DOHC Flexible Fuel']"
      ]
     },
     "execution_count": 26,
     "metadata": {},
     "output_type": "execute_result"
    }
   ],
   "source": [
    "engines = soup.find_all('li', class_='engineDisplay')\n",
    "\n",
    "engine_list = []\n",
    "for style in engines:\n",
    "    engine_list.append(style.text)\n",
    "    \n",
    "j = 1\n",
    "for i, style in enumerate(engine_list):\n",
    "    if engine_list[i] == engine_list[j]:\n",
    "        del engine_list[i]\n",
    "    j += 1\n",
    "        \n",
    "engine_list"
   ]
  },
  {
   "cell_type": "code",
   "execution_count": null,
   "metadata": {},
   "outputs": [],
   "source": [
    "dict_of_lists = {}\n",
    "\n",
    "for component in []:\n",
    "    returned_html = soup.find_all('li', class_=component)\n",
    "\n",
    "    _list = []\n",
    "    for style in body_styles:\n",
    "        _list.append(style.text)\n",
    "\n",
    "    j = 1\n",
    "    for i, style in enumerate(_list):\n",
    "        if _list[i] == _list[j]:\n",
    "            del _list[i]\n",
    "        j += 1\n",
    "\n",
    "    dict_of_lists[f'{component}_list'] = _list"
   ]
  }
 ],
 "metadata": {
  "kernelspec": {
   "display_name": "Python 3",
   "language": "python",
   "name": "python3"
  },
  "language_info": {
   "codemirror_mode": {
    "name": "ipython",
    "version": 3
   },
   "file_extension": ".py",
   "mimetype": "text/x-python",
   "name": "python",
   "nbconvert_exporter": "python",
   "pygments_lexer": "ipython3",
   "version": "3.7.3"
  }
 },
 "nbformat": 4,
 "nbformat_minor": 2
}
