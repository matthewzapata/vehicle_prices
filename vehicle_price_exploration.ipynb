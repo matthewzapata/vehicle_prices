{
 "cells": [
  {
   "cell_type": "code",
   "execution_count": 1,
   "metadata": {},
   "outputs": [],
   "source": [
    "import pandas as pd\n",
    "from bs4 import BeautifulSoup\n",
    "from requests import get"
   ]
  },
  {
   "cell_type": "markdown",
   "metadata": {},
   "source": [
    "https://www.mccombsfordwest.com/searchused.aspx?Type=N&Year=2019&Make=Ford&Model=F-150"
   ]
  },
  {
   "cell_type": "markdown",
   "metadata": {},
   "source": [
    "# Acquire\n",
    "### Used Prices First"
   ]
  },
  {
   "cell_type": "code",
   "execution_count": 2,
   "metadata": {},
   "outputs": [
    {
     "name": "stdout",
     "output_type": "stream",
     "text": [
      "<!DOCTYPE html>\r",
      "<html lang=\"en\">\r",
      "<head>\r",
      "<meta charset=\"utf-8\" />\r",
      "<title>Buy a Used Ford near Atascosa, TX | Pre-Owned Ford Cars & Trucks</title>\r",
      "<!-- Meta Tags -->\r",
      "<meta name=\"description\" content=\"Shop for a used Ford car, truck or SUV at McCombs Ford West. Our Ford dealership near Atascosa, TX, has a large inventory of used Ford vehicles, including pre-owned Ford F-150 trucks and Ford Mustang mo\n"
     ]
    }
   ],
   "source": [
    "new_or_used = 'U'\n",
    "year = '2018'\n",
    "make = 'Ford'\n",
    "model = 'F-150'\n",
    "\n",
    "url = f'https://www.mccombsfordwest.com/searchused.aspx?Type={new_or_used}&Year={year}&Make={make}&Model={model}'\n",
    "# headers = {'User-Agent': 'Codeup Ada Data Science'} # codeup.com doesn't like our default user-agent\n",
    "response = get(url)\n",
    "\n",
    "print(response.text[:400])"
   ]
  },
  {
   "cell_type": "code",
   "execution_count": 3,
   "metadata": {},
   "outputs": [],
   "source": [
    "soup = BeautifulSoup(response.content, 'html.parser')"
   ]
  },
  {
   "cell_type": "code",
   "execution_count": 7,
   "metadata": {},
   "outputs": [
    {
     "name": "stdout",
     "output_type": "stream",
     "text": [
      "    2018 Ford F-150 Limited    \n",
      "    2018 Ford F-150 LARIAT    \n",
      "    2018 Ford F-150    \n",
      "    2018 Ford F-150 LARIAT    \n",
      "    2018 Ford F-150 2WD    \n",
      "    2018 Ford F-150 LARIAT    \n",
      "    2018 Ford F-150 XL    \n",
      "    2018 Ford F-150 XLT    \n",
      "    2018 Ford F-150 STX    \n",
      "    2018 Ford F-150 XLT    \n",
      "    2018 Ford F-150 XL    \n",
      "    2018 Ford F-150 XL    \n",
      "    2018 Ford F-150 XLT    \n",
      "    2018 Ford F-150 XL    \n"
     ]
    }
   ],
   "source": [
    "vehicle_titles = soup.find_all('div', class_='row vehicleTitleContainer visible-xs')\n",
    "for vehicle_title in vehicle_titles:\n",
    "    print(vehicle_title.text)"
   ]
  },
  {
   "cell_type": "code",
   "execution_count": null,
   "metadata": {},
   "outputs": [],
   "source": []
  }
 ],
 "metadata": {
  "kernelspec": {
   "display_name": "Python 3",
   "language": "python",
   "name": "python3"
  },
  "language_info": {
   "codemirror_mode": {
    "name": "ipython",
    "version": 3
   },
   "file_extension": ".py",
   "mimetype": "text/x-python",
   "name": "python",
   "nbconvert_exporter": "python",
   "pygments_lexer": "ipython3",
   "version": "3.7.3"
  }
 },
 "nbformat": 4,
 "nbformat_minor": 2
}
