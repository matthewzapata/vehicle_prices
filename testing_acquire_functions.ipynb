{
 "cells": [
  {
   "cell_type": "code",
   "execution_count": 6,
   "metadata": {},
   "outputs": [],
   "source": [
    "import acquire\n",
    "import pandas as pd\n",
    "from bs4 import BeautifulSoup\n",
    "from requests import get\n",
    "import re"
   ]
  },
  {
   "cell_type": "code",
   "execution_count": 2,
   "metadata": {},
   "outputs": [],
   "source": [
    "# domain_list = ['mccombsfordwest.com', 'nsford.com', 'southwayford.com']\n",
    "new_or_used = 'U'\n",
    "year = '2018'\n",
    "make = 'Ford'\n",
    "model = 'F-150'"
   ]
  },
  {
   "cell_type": "code",
   "execution_count": 5,
   "metadata": {},
   "outputs": [
    {
     "name": "stdout",
     "output_type": "stream",
     "text": [
      "Completed mccombsfordwest.com\n",
      "Completed nsford.com\n",
      "Completed southwayford.com\n"
     ]
    },
    {
     "data": {
      "text/plain": [
       "{'mccombsfordwest.com':    year  make          model condition    price       body_style mileage  \\\n",
       " 0  2018  Ford  F-150 Limited      Used  $49,998  Crew Cab Pickup  51,069   \n",
       " 1  2018  Ford          F-150      Used  $48,988  Crew Cab Pickup  30,251   \n",
       " 2  2018  Ford   F-150 LARIAT      Used  $37,992  Crew Cab Pickup  40,345   \n",
       " 3  2018  Ford       F-150 XL      Used  $36,999  Crew Cab Pickup  28,920   \n",
       " 4  2018  Ford   F-150 LARIAT      Used  $36,992  Crew Cab Pickup  33,534   \n",
       " 5  2018  Ford       F-150 XL      Used  $34,992  Crew Cab Pickup  22,750   \n",
       " 6  2018  Ford      F-150 XLT      Used  $34,988  Crew Cab Pickup  34,168   \n",
       " 7  2018  Ford      F-150 STX      Used  $33,992  Crew Cab Pickup   9,979   \n",
       " 8  2018  Ford      F-150 XLT      Used  $32,992  Crew Cab Pickup  10,079   \n",
       " 9  2018  Ford       F-150 XL      Used  $30,988  Crew Cab Pickup  23,901   \n",
       " \n",
       "                             engine transmission drivetrain  \\\n",
       " 0  3.5L V6 24V PDI DOHC Twin Turbo    Automatic        4WD   \n",
       " 1  3.5L V6 24V PDI DOHC Twin Turbo    Automatic        4WD   \n",
       " 2  2.7L V6 24V PDI DOHC Twin Turbo    Automatic        4WD   \n",
       " 3  2.7L V6 24V PDI DOHC Twin Turbo    Automatic        RWD   \n",
       " 4             5.0L V8 32V PDI DOHC    Automatic        RWD   \n",
       " 5  3.5L V6 24V PDI DOHC Twin Turbo    Automatic        4WD   \n",
       " 6             5.0L V8 32V PDI DOHC    Automatic        4WD   \n",
       " 7  2.7L V6 24V PDI DOHC Twin Turbo    Automatic        RWD   \n",
       " 8  2.7L V6 24V PDI DOHC Twin Turbo    Automatic        RWD   \n",
       " 9  3.5L V6 24V PDI DOHC Twin Turbo    Automatic        RWD   \n",
       " \n",
       "                ext_color             dealer  \n",
       " 0                  White  McCombs Ford West  \n",
       " 1                 Silver  McCombs Ford West  \n",
       " 2                  Black  McCombs Ford West  \n",
       " 3  Ingot Silver Metallic  McCombs Ford West  \n",
       " 4                  White  McCombs Ford West  \n",
       " 5                   Blue  McCombs Ford West  \n",
       " 6           Oxford White  McCombs Ford West  \n",
       " 7                   Gray  McCombs Ford West  \n",
       " 8                    Red  McCombs Ford West  \n",
       " 9  Ingot Silver Metallic  McCombs Ford West  , 'nsford.com': Empty DataFrame\n",
       " Columns: [year, make, model, condition, price, body_style, mileage, engine, transmission, drivetrain, ext_color, dealer]\n",
       " Index: [], 'southwayford.com': Empty DataFrame\n",
       " Columns: [year, make, model, condition, price, body_style, mileage, engine, transmission, drivetrain, ext_color, dealer]\n",
       " Index: []}"
      ]
     },
     "execution_count": 5,
     "metadata": {},
     "output_type": "execute_result"
    }
   ],
   "source": [
    "dataframes_of_dealership_data = {}\n",
    "for domain in domain_list:\n",
    "    dataframes_of_dealership_data[f'{domain}'] = acquire.get_dealership_data(domain, new_or_used, year, make, model)\n",
    "    print(f'Completed {domain}')\n",
    "    \n",
    "dataframes_of_dealership_data"
   ]
  },
  {
   "cell_type": "code",
   "execution_count": 3,
   "metadata": {},
   "outputs": [
    {
     "data": {
      "text/plain": [
       "([], [])"
      ]
     },
     "execution_count": 3,
     "metadata": {},
     "output_type": "execute_result"
    }
   ],
   "source": [
    "soup = acquire.prep_the_soup('nsford.com', new_or_used, year, make, model)\n",
    "acquire.get_years_and_models_lists(soup, make)"
   ]
  },
  {
   "cell_type": "code",
   "execution_count": 4,
   "metadata": {},
   "outputs": [
    {
     "data": {
      "text/plain": [
       "[]"
      ]
     },
     "execution_count": 4,
     "metadata": {},
     "output_type": "execute_result"
    }
   ],
   "source": [
    "soup.find_all('div', class_='row vehicleTitleContainer visible-xs')"
   ]
  },
  {
   "cell_type": "code",
   "execution_count": 12,
   "metadata": {},
   "outputs": [
    {
     "name": "stdout",
     "output_type": "stream",
     "text": [
      "<!doctype html>\r\n",
      "<html>\r\n",
      "\r\n",
      "<head>\r\n",
      "    <meta charset=\"utf-8\">\r\n",
      "    <title>Temporarily Unavailable - 502 Bad Gateway</title>\r\n",
      "    <link rel=stylesheet href=\"https://maintstatic.dealeron.us/assets/maint/bootstrap.min.css\">\r\n",
      "    <link rel=stylesheet href=\"https://maintstatic.dealeron.us/assets/maint/extend.min.css\">\r\n",
      "    <link rel=stylesheet href=\"https://maxcdn.bootstrapcdn.com/font-awesome/4.3.0/cs\n"
     ]
    }
   ],
   "source": [
    "new_or_used = 'U'\n",
    "year = '2018'\n",
    "make = 'Ford'\n",
    "model = 'F-150'\n",
    "domain = 'nsford.com'\n",
    "\n",
    "url = f'https://www.{domain}/searchused.aspx?Type={new_or_used}&Year={year}&Make={make}&Model={model}&pn=100'\n",
    "# headers = {'User-Agent': 'Codeup Ada Data Science'} # codeup.com doesn't like our default user-agent\n",
    "response = get(url)\n",
    "\n",
    "print(response.text[:400])"
   ]
  },
  {
   "cell_type": "code",
   "execution_count": 13,
   "metadata": {},
   "outputs": [],
   "source": [
    "soup = BeautifulSoup(response.content, 'html.parser')"
   ]
  },
  {
   "cell_type": "code",
   "execution_count": 14,
   "metadata": {},
   "outputs": [
    {
     "data": {
      "text/plain": [
       "<!DOCTYPE doctype html>\n",
       "\n",
       "<html>\n",
       "<head>\n",
       "<meta charset=\"utf-8\"/>\n",
       "<title>Temporarily Unavailable - 502 Bad Gateway</title>\n",
       "<link href=\"https://maintstatic.dealeron.us/assets/maint/bootstrap.min.css\" rel=\"stylesheet\"/>\n",
       "<link href=\"https://maintstatic.dealeron.us/assets/maint/extend.min.css\" rel=\"stylesheet\"/>\n",
       "<link href=\"https://maxcdn.bootstrapcdn.com/font-awesome/4.3.0/css/font-awesome.min.css\" rel=\"stylesheet\"/>\n",
       "<link href=\"https://fonts.googleapis.com/css?family=Open+Sans:400,700,600\" rel=\"stylesheet\" type=\"text/css\"/>\n",
       "<style>\n",
       "    body,\n",
       "    .snap-content {\n",
       "        background: url(\"https://maintstatic.dealeron.us/assets/maint/bgSiteDown.jpg\") no-repeat center center fixed #0D375D;\n",
       "        -webkit-background-size: cover;\n",
       "        -moz-background-size: cover;\n",
       "        -o-background-size: cover;\n",
       "        background-size: cover;\n",
       "        letter-spacing: 0.4px;\n",
       "        font-family: 'Open Sans', sans-serif;\n",
       "    }\n",
       "    .well {\n",
       "        background-color: rgba(0, 0, 0, .2);\n",
       "        border: 0;\n",
       "        border-radius: 20px;\n",
       "        box-shadow: inset 0 0 15px rgba(0, 0, 0, .3);\n",
       "        margin-top: 100px;\n",
       "        padding: 50px 60px;\n",
       "    }\n",
       "    .fa-gears {\n",
       "        font-size: 110px;\n",
       "        margin: 10px 0;\n",
       "        text-shadow: 0 0 15px #222;\n",
       "    }\n",
       "    hr {\n",
       "        border-color: #0D375D;\n",
       "        border-style: dashed;\n",
       "    }\n",
       "    @media(max-width:767px) {\n",
       "        h1 {\n",
       "            font-size: 24px;\n",
       "        }\n",
       "        .well {\n",
       "            padding: 40px 25px;\n",
       "        }\n",
       "    }\n",
       "    </style>\n",
       "</head>\n",
       "<body>\n",
       "<div class=\"container\">\n",
       "<div class=\"row text-white text-center-xs text-center-sm\">\n",
       "<div class=\"col-md-10 col-md-offset-1 col-lg-8 col-lg-offset-2\">\n",
       "<div class=\"well\">\n",
       "<div class=\"row\">\n",
       "<div class=\"col-md-3\">\n",
       "<i class=\"fa fa-gears hidden-xs hidden-sm\"></i>\n",
       "</div>\n",
       "<div class=\"col-md-9\">\n",
       "<h1 class=\"margin-vert-x\"><b>Please Check Back Soon</b></h1>\n",
       "<hr/>\n",
       "<h4 class=\"larger\">Thank you for visiting our website!</h4>\n",
       "<h4 class=\"larger\">Our site is temporarily unavailable due to maintenance.</h4>\n",
       "</div>\n",
       "</div>\n",
       "</div>\n",
       "</div>\n",
       "</div>\n",
       "</div>\n",
       "</body>\n",
       "</html>"
      ]
     },
     "execution_count": 14,
     "metadata": {},
     "output_type": "execute_result"
    }
   ],
   "source": [
    "soup"
   ]
  },
  {
   "cell_type": "code",
   "execution_count": 9,
   "metadata": {},
   "outputs": [
    {
     "data": {
      "text/plain": [
       "[]"
      ]
     },
     "execution_count": 9,
     "metadata": {},
     "output_type": "execute_result"
    }
   ],
   "source": [
    "vehicle_titles = soup.find_all('div', class_='row vehicleTitleContainer visible-xs')\n",
    "\n",
    "vehicle_titles_list = []\n",
    "for vehicle_title in vehicle_titles:\n",
    "    vehicle_titles_list.append(vehicle_title.text.strip())\n",
    "vehicle_titles_list"
   ]
  },
  {
   "cell_type": "code",
   "execution_count": null,
   "metadata": {},
   "outputs": [],
   "source": []
  }
 ],
 "metadata": {
  "kernelspec": {
   "display_name": "Python 3",
   "language": "python",
   "name": "python3"
  },
  "language_info": {
   "codemirror_mode": {
    "name": "ipython",
    "version": 3
   },
   "file_extension": ".py",
   "mimetype": "text/x-python",
   "name": "python",
   "nbconvert_exporter": "python",
   "pygments_lexer": "ipython3",
   "version": "3.7.3"
  }
 },
 "nbformat": 4,
 "nbformat_minor": 2
}
